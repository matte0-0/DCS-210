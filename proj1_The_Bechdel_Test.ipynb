{
  "nbformat": 4,
  "nbformat_minor": 0,
  "metadata": {
    "colab": {
      "provenance": [],
      "collapsed_sections": [],
      "authorship_tag": "ABX9TyOWYkSP5PE+ZxsMxY/NZvKG",
      "include_colab_link": true
    },
    "kernelspec": {
      "name": "ir",
      "display_name": "R"
    },
    "language_info": {
      "name": "R"
    }
  },
  "cells": [
    {
      "cell_type": "markdown",
      "metadata": {
        "id": "view-in-github",
        "colab_type": "text"
      },
      "source": [
        "<a href=\"https://colab.research.google.com/github/matte0-0/DCS-210/blob/main/proj1_The_Bechdel_Test.ipynb\" target=\"_parent\"><img src=\"https://colab.research.google.com/assets/colab-badge.svg\" alt=\"Open In Colab\"/></a>"
      ]
    },
    {
      "cell_type": "markdown",
      "source": [
        "# Project 1: The Bechdel Test\n",
        "\n",
        "by Matteo Pagano\n",
        "\n",
        "for DCS 210: Programming for Data Analysis and Visualization"
      ],
      "metadata": {
        "id": "243wPePBHkZW"
      }
    },
    {
      "cell_type": "code",
      "execution_count": 1,
      "metadata": {
        "id": "uTR3aZUZtu9c",
        "colab": {
          "base_uri": "https://localhost:8080/"
        },
        "outputId": "da9c14df-ea4e-4f05-cc96-0644e9487eba",
        "collapsed": true
      },
      "outputs": [
        {
          "output_type": "stream",
          "name": "stderr",
          "text": [
            "Installing package into ‘/usr/local/lib/R/site-library’\n",
            "(as ‘lib’ is unspecified)\n",
            "\n",
            "Installing package into ‘/usr/local/lib/R/site-library’\n",
            "(as ‘lib’ is unspecified)\n",
            "\n",
            "Warning message in system(\"timedatectl\", intern = TRUE):\n",
            "“running command 'timedatectl' had status 1”\n",
            "── \u001b[1mAttaching packages\u001b[22m ─────────────────────────────────────── tidyverse 1.3.2 ──\n",
            "\u001b[32m✔\u001b[39m \u001b[34mggplot2\u001b[39m 3.3.6      \u001b[32m✔\u001b[39m \u001b[34mpurrr  \u001b[39m 0.3.4 \n",
            "\u001b[32m✔\u001b[39m \u001b[34mtibble \u001b[39m 3.1.7      \u001b[32m✔\u001b[39m \u001b[34mdplyr  \u001b[39m 1.0.10\n",
            "\u001b[32m✔\u001b[39m \u001b[34mtidyr  \u001b[39m 1.2.1      \u001b[32m✔\u001b[39m \u001b[34mstringr\u001b[39m 1.4.1 \n",
            "\u001b[32m✔\u001b[39m \u001b[34mreadr  \u001b[39m 2.1.2      \u001b[32m✔\u001b[39m \u001b[34mforcats\u001b[39m 0.5.2 \n",
            "── \u001b[1mConflicts\u001b[22m ────────────────────────────────────────── tidyverse_conflicts() ──\n",
            "\u001b[31m✖\u001b[39m \u001b[34mdplyr\u001b[39m::\u001b[32mfilter()\u001b[39m masks \u001b[34mstats\u001b[39m::filter()\n",
            "\u001b[31m✖\u001b[39m \u001b[34mdplyr\u001b[39m::\u001b[32mlag()\u001b[39m    masks \u001b[34mstats\u001b[39m::lag()\n",
            "Some larger datasets need to be installed separately, like senators and\n",
            "house_district_forecast. To install these, we recommend you install the\n",
            "fivethirtyeightdata package by running:\n",
            "install.packages('fivethirtyeightdata', repos =\n",
            "'https://fivethirtyeightdata.github.io/drat/', type = 'source')\n",
            "\n"
          ]
        }
      ],
      "source": [
        "install.packages(\"tidyverse\")\n",
        "install.packages(\"fivethirtyeight\")\n",
        "\n",
        "library(tidyverse)\n",
        "library(fivethirtyeight)"
      ]
    },
    {
      "cell_type": "markdown",
      "source": [
        "## Question 1\n",
        "\n",
        "Q. What information does this dataset contain? What commands did you use to see this?\n",
        "\n",
        "A. The `fivethirtyeight` package contains many datasets used in reporting from the news website FiveThirtyEight. To see all of the datasets contained in the package I used the command `data(package = \"fivethirtyeight\")`. More specifically, the `bechdel` dataset contains 1,794 rows/observations representing individual movies and 15 columns/variables containing a variety of information about each movie. Alongside basic info like each movie's title, year, budget, and box office gross, there are multiple variables with details about whether (and how well) each movie passes the Bechdel test. To see this, I used the command `glimpse(bechdel)`."
      ],
      "metadata": {
        "id": "6pS86MYIEswI"
      }
    },
    {
      "cell_type": "code",
      "source": [
        "data(package = \"fivethirtyeight\")"
      ],
      "metadata": {
        "id": "G3KeWxW2JEcH"
      },
      "execution_count": 7,
      "outputs": []
    },
    {
      "cell_type": "code",
      "source": [
        "glimpse(bechdel)"
      ],
      "metadata": {
        "colab": {
          "base_uri": "https://localhost:8080/"
        },
        "id": "x7AUmpjxPNhB",
        "outputId": "48761d9c-cb95-49fc-8ec0-9a32e8a07da1"
      },
      "execution_count": 9,
      "outputs": [
        {
          "output_type": "stream",
          "name": "stdout",
          "text": [
            "Rows: 1,794\n",
            "Columns: 15\n",
            "$ year          \u001b[3m\u001b[90m<int>\u001b[39m\u001b[23m 2013, 2012, 2013, 2013, 2013, 2013, 2013, 2013, 2013, 20…\n",
            "$ imdb          \u001b[3m\u001b[90m<chr>\u001b[39m\u001b[23m \"tt1711425\", \"tt1343727\", \"tt2024544\", \"tt1272878\", \"tt0…\n",
            "$ title         \u001b[3m\u001b[90m<chr>\u001b[39m\u001b[23m \"21 & Over\", \"Dredd 3D\", \"12 Years a Slave\", \"2 Guns\", \"…\n",
            "$ test          \u001b[3m\u001b[90m<chr>\u001b[39m\u001b[23m \"notalk\", \"ok-disagree\", \"notalk-disagree\", \"notalk\", \"m…\n",
            "$ clean_test    \u001b[3m\u001b[90m<ord>\u001b[39m\u001b[23m notalk, ok, notalk, notalk, men, men, notalk, ok, ok, no…\n",
            "$ binary        \u001b[3m\u001b[90m<chr>\u001b[39m\u001b[23m \"FAIL\", \"PASS\", \"FAIL\", \"FAIL\", \"FAIL\", \"FAIL\", \"FAIL\", …\n",
            "$ budget        \u001b[3m\u001b[90m<int>\u001b[39m\u001b[23m 13000000, 45000000, 20000000, 61000000, 40000000, 225000…\n",
            "$ domgross      \u001b[3m\u001b[90m<dbl>\u001b[39m\u001b[23m 25682380, 13414714, 53107035, 75612460, 95020213, 383624…\n",
            "$ intgross      \u001b[3m\u001b[90m<dbl>\u001b[39m\u001b[23m 42195766, 40868994, 158607035, 132493015, 95020213, 1458…\n",
            "$ code          \u001b[3m\u001b[90m<chr>\u001b[39m\u001b[23m \"2013FAIL\", \"2012PASS\", \"2013FAIL\", \"2013FAIL\", \"2013FAI…\n",
            "$ budget_2013   \u001b[3m\u001b[90m<int>\u001b[39m\u001b[23m 13000000, 45658735, 20000000, 61000000, 40000000, 225000…\n",
            "$ domgross_2013 \u001b[3m\u001b[90m<dbl>\u001b[39m\u001b[23m 25682380, 13611086, 53107035, 75612460, 95020213, 383624…\n",
            "$ intgross_2013 \u001b[3m\u001b[90m<dbl>\u001b[39m\u001b[23m 42195766, 41467257, 158607035, 132493015, 95020213, 1458…\n",
            "$ period_code   \u001b[3m\u001b[90m<int>\u001b[39m\u001b[23m 1, 1, 1, 1, 1, 1, 1, 1, 1, 1, 1, 1, 1, 1, 1, 1, 1, 1, 1,…\n",
            "$ decade_code   \u001b[3m\u001b[90m<int>\u001b[39m\u001b[23m 1, 1, 1, 1, 1, 1, 1, 1, 1, 1, 1, 1, 1, 1, 1, 1, 1, 1, 1,…\n"
          ]
        }
      ]
    },
    {
      "cell_type": "markdown",
      "source": [
        "## Question 2\n",
        "\n",
        "Q. How many movies are in our filtered data set?\n",
        "\n",
        "A. Once the dataset has been filtered to focus only on movies released between 1990 and 2013 (the most recent year in the set), the total number of movies has decreased to 1,615."
      ],
      "metadata": {
        "id": "X0mpEiYWS3OI"
      }
    },
    {
      "cell_type": "code",
      "source": [
        "bechdel90_13 <- bechdel %>%\n",
        "  filter(between(year, 1990, 2013))"
      ],
      "metadata": {
        "id": "zm_Dah-tSkAd"
      },
      "execution_count": 10,
      "outputs": []
    },
    {
      "cell_type": "code",
      "source": [
        "glimpse(bechdel90_13)"
      ],
      "metadata": {
        "colab": {
          "base_uri": "https://localhost:8080/"
        },
        "id": "zz5Cb-YlTvKU",
        "outputId": "33b19ee6-c1a9-46a5-f2d6-2354305b9a08"
      },
      "execution_count": 12,
      "outputs": [
        {
          "output_type": "stream",
          "name": "stdout",
          "text": [
            "Rows: 1,615\n",
            "Columns: 15\n",
            "$ year          \u001b[3m\u001b[90m<int>\u001b[39m\u001b[23m 2013, 2012, 2013, 2013, 2013, 2013, 2013, 2013, 2013, 20…\n",
            "$ imdb          \u001b[3m\u001b[90m<chr>\u001b[39m\u001b[23m \"tt1711425\", \"tt1343727\", \"tt2024544\", \"tt1272878\", \"tt0…\n",
            "$ title         \u001b[3m\u001b[90m<chr>\u001b[39m\u001b[23m \"21 & Over\", \"Dredd 3D\", \"12 Years a Slave\", \"2 Guns\", \"…\n",
            "$ test          \u001b[3m\u001b[90m<chr>\u001b[39m\u001b[23m \"notalk\", \"ok-disagree\", \"notalk-disagree\", \"notalk\", \"m…\n",
            "$ clean_test    \u001b[3m\u001b[90m<ord>\u001b[39m\u001b[23m notalk, ok, notalk, notalk, men, men, notalk, ok, ok, no…\n",
            "$ binary        \u001b[3m\u001b[90m<chr>\u001b[39m\u001b[23m \"FAIL\", \"PASS\", \"FAIL\", \"FAIL\", \"FAIL\", \"FAIL\", \"FAIL\", …\n",
            "$ budget        \u001b[3m\u001b[90m<int>\u001b[39m\u001b[23m 13000000, 45000000, 20000000, 61000000, 40000000, 225000…\n",
            "$ domgross      \u001b[3m\u001b[90m<dbl>\u001b[39m\u001b[23m 25682380, 13414714, 53107035, 75612460, 95020213, 383624…\n",
            "$ intgross      \u001b[3m\u001b[90m<dbl>\u001b[39m\u001b[23m 42195766, 40868994, 158607035, 132493015, 95020213, 1458…\n",
            "$ code          \u001b[3m\u001b[90m<chr>\u001b[39m\u001b[23m \"2013FAIL\", \"2012PASS\", \"2013FAIL\", \"2013FAIL\", \"2013FAI…\n",
            "$ budget_2013   \u001b[3m\u001b[90m<int>\u001b[39m\u001b[23m 13000000, 45658735, 20000000, 61000000, 40000000, 225000…\n",
            "$ domgross_2013 \u001b[3m\u001b[90m<dbl>\u001b[39m\u001b[23m 25682380, 13611086, 53107035, 75612460, 95020213, 383624…\n",
            "$ intgross_2013 \u001b[3m\u001b[90m<dbl>\u001b[39m\u001b[23m 42195766, 41467257, 158607035, 132493015, 95020213, 1458…\n",
            "$ period_code   \u001b[3m\u001b[90m<int>\u001b[39m\u001b[23m 1, 1, 1, 1, 1, 1, 1, 1, 1, 1, 1, 1, 1, 1, 1, 1, 1, 1, 1,…\n",
            "$ decade_code   \u001b[3m\u001b[90m<int>\u001b[39m\u001b[23m 1, 1, 1, 1, 1, 1, 1, 1, 1, 1, 1, 1, 1, 1, 1, 1, 1, 1, 1,…\n"
          ]
        }
      ]
    },
    {
      "cell_type": "markdown",
      "source": [
        "## Question 3\n",
        "\n",
        "Q. What are those movies with *very* high returns on investment?\n",
        "\n",
        "A. Those three movies with extremely high returns on investment which make it difficult to see the distributions clearly are Paranormal Activity (2007), The Blair Witch Project (1999), and El Mariachi (1992)."
      ],
      "metadata": {
        "id": "gVL3VMyPUAdz"
      }
    },
    {
      "cell_type": "code",
      "source": [
        "# Group filtered dataset by a binary check of the Bechdel test: PASS or FAIL.\n",
        "#     Summarise grouped dataset into median budget, median domestic gross, and  \n",
        "#     median international gross (removing any NA data first), all adjusted for \n",
        "#     inflation to the value of USD in 2013.\n",
        "\n",
        "bechdel90_13 %>%\n",
        "  group_by(binary) %>%\n",
        "  summarise(med_budget = median(budget_2013),\n",
        "    med_domgross = median(domgross_2013, na.rm = TRUE),\n",
        "    med_intgross = median(intgross_2013, na.rm = TRUE))"
      ],
      "metadata": {
        "colab": {
          "base_uri": "https://localhost:8080/",
          "height": 161
        },
        "id": "63vchUytUGSE",
        "outputId": "79304a39-92d9-42a0-f76e-33b231ec16c3"
      },
      "execution_count": 13,
      "outputs": [
        {
          "output_type": "display_data",
          "data": {
            "text/html": [
              "<table class=\"dataframe\">\n",
              "<caption>A tibble: 2 × 4</caption>\n",
              "<thead>\n",
              "\t<tr><th scope=col>binary</th><th scope=col>med_budget</th><th scope=col>med_domgross</th><th scope=col>med_intgross</th></tr>\n",
              "\t<tr><th scope=col>&lt;chr&gt;</th><th scope=col>&lt;dbl&gt;</th><th scope=col>&lt;dbl&gt;</th><th scope=col>&lt;dbl&gt;</th></tr>\n",
              "</thead>\n",
              "<tbody>\n",
              "\t<tr><td>FAIL</td><td>48385984</td><td>57318606</td><td>104475669</td></tr>\n",
              "\t<tr><td>PASS</td><td>31070724</td><td>45330446</td><td> 80124349</td></tr>\n",
              "</tbody>\n",
              "</table>\n"
            ],
            "text/markdown": "\nA tibble: 2 × 4\n\n| binary &lt;chr&gt; | med_budget &lt;dbl&gt; | med_domgross &lt;dbl&gt; | med_intgross &lt;dbl&gt; |\n|---|---|---|---|\n| FAIL | 48385984 | 57318606 | 104475669 |\n| PASS | 31070724 | 45330446 |  80124349 |\n\n",
            "text/latex": "A tibble: 2 × 4\n\\begin{tabular}{llll}\n binary & med\\_budget & med\\_domgross & med\\_intgross\\\\\n <chr> & <dbl> & <dbl> & <dbl>\\\\\n\\hline\n\t FAIL & 48385984 & 57318606 & 104475669\\\\\n\t PASS & 31070724 & 45330446 &  80124349\\\\\n\\end{tabular}\n",
            "text/plain": [
              "  binary med_budget med_domgross med_intgross\n",
              "1 FAIL   48385984   57318606     104475669   \n",
              "2 PASS   31070724   45330446      80124349   "
            ]
          },
          "metadata": {}
        }
      ]
    },
    {
      "cell_type": "code",
      "source": [
        "# Group filtered dataset by a more detailed description of each movie's Bechdel\n",
        "# test results: 'ok', 'dubious', 'men', 'notalk', or 'nowomen'.\n",
        "#   'ok'      = passes test\n",
        "#   'dubious' = ...dubious\n",
        "#   'men'     = women only talk about men\n",
        "#   'notalk'  = women don't talk to each other\n",
        "#   'nowomen' = fewer than two women\n",
        "#     Summarise grouped dataset into median budget, median domestic gross, and  \n",
        "#     median international gross (removing any NA data first), all adjusted for\n",
        "#     inflation to the value of USD in 2013.\n",
        "\n",
        "bechdel90_13 %>%\n",
        "  group_by(clean_test) %>%\n",
        "  summarise(med_budget = median(budget_2013),\n",
        "    med_domgross = median(domgross_2013, na.rm = TRUE),\n",
        "    med_intgross = median(intgross_2013, na.rm = TRUE))"
      ],
      "metadata": {
        "colab": {
          "base_uri": "https://localhost:8080/",
          "height": 255
        },
        "id": "MvG-ZHUAVuqb",
        "outputId": "83eb53e4-33bc-47db-95bb-cf91e2bfd579"
      },
      "execution_count": 14,
      "outputs": [
        {
          "output_type": "display_data",
          "data": {
            "text/html": [
              "<table class=\"dataframe\">\n",
              "<caption>A tibble: 5 × 4</caption>\n",
              "<thead>\n",
              "\t<tr><th scope=col>clean_test</th><th scope=col>med_budget</th><th scope=col>med_domgross</th><th scope=col>med_intgross</th></tr>\n",
              "\t<tr><th scope=col>&lt;ord&gt;</th><th scope=col>&lt;dbl&gt;</th><th scope=col>&lt;dbl&gt;</th><th scope=col>&lt;dbl&gt;</th></tr>\n",
              "</thead>\n",
              "<tbody>\n",
              "\t<tr><td>nowomen</td><td>43373066</td><td>44891296</td><td> 89509349</td></tr>\n",
              "\t<tr><td>notalk </td><td>56570084</td><td>63890455</td><td>123102194</td></tr>\n",
              "\t<tr><td>men    </td><td>39737690</td><td>56392786</td><td> 99578022</td></tr>\n",
              "\t<tr><td>dubious</td><td>35790994</td><td>49173429</td><td> 89883201</td></tr>\n",
              "\t<tr><td>ok     </td><td>31070724</td><td>45330446</td><td> 80124349</td></tr>\n",
              "</tbody>\n",
              "</table>\n"
            ],
            "text/markdown": "\nA tibble: 5 × 4\n\n| clean_test &lt;ord&gt; | med_budget &lt;dbl&gt; | med_domgross &lt;dbl&gt; | med_intgross &lt;dbl&gt; |\n|---|---|---|---|\n| nowomen | 43373066 | 44891296 |  89509349 |\n| notalk  | 56570084 | 63890455 | 123102194 |\n| men     | 39737690 | 56392786 |  99578022 |\n| dubious | 35790994 | 49173429 |  89883201 |\n| ok      | 31070724 | 45330446 |  80124349 |\n\n",
            "text/latex": "A tibble: 5 × 4\n\\begin{tabular}{llll}\n clean\\_test & med\\_budget & med\\_domgross & med\\_intgross\\\\\n <ord> & <dbl> & <dbl> & <dbl>\\\\\n\\hline\n\t nowomen & 43373066 & 44891296 &  89509349\\\\\n\t notalk  & 56570084 & 63890455 & 123102194\\\\\n\t men     & 39737690 & 56392786 &  99578022\\\\\n\t dubious & 35790994 & 49173429 &  89883201\\\\\n\t ok      & 31070724 & 45330446 &  80124349\\\\\n\\end{tabular}\n",
            "text/plain": [
              "  clean_test med_budget med_domgross med_intgross\n",
              "1 nowomen    43373066   44891296      89509349   \n",
              "2 notalk     56570084   63890455     123102194   \n",
              "3 men        39737690   56392786      99578022   \n",
              "4 dubious    35790994   49173429      89883201   \n",
              "5 ok         31070724   45330446      80124349   "
            ]
          },
          "metadata": {}
        }
      ]
    },
    {
      "cell_type": "code",
      "source": [
        "# Creating a new variable 'roi' to evaluate the return on investment for each \n",
        "# movie as a ratio of the gross to budget.\n",
        "\n",
        "bechdel90_13 <- bechdel90_13 %>%\n",
        "  mutate(roi = (intgross_2013 + domgross_2013) / budget_2013)"
      ],
      "metadata": {
        "id": "jtDX2mMRXcHt"
      },
      "execution_count": 16,
      "outputs": []
    },
    {
      "cell_type": "code",
      "source": [
        "# Arrange dataset in order of new 'roi' variable to see which movies have the \n",
        "# highest return on investment.\n",
        "\n",
        "bechdel90_13 %>%\n",
        "  arrange(desc(roi)) %>%\n",
        "  select(title, roi, year)"
      ],
      "metadata": {
        "colab": {
          "base_uri": "https://localhost:8080/",
          "height": 1000
        },
        "id": "5HUkePv5YsRl",
        "outputId": "4cce6559-5d39-460e-87af-d1fa0df3d19a"
      },
      "execution_count": 17,
      "outputs": [
        {
          "output_type": "display_data",
          "data": {
            "text/html": [
              "<table class=\"dataframe\">\n",
              "<caption>A tibble: 1615 × 3</caption>\n",
              "<thead>\n",
              "\t<tr><th scope=col>title</th><th scope=col>roi</th><th scope=col>year</th></tr>\n",
              "\t<tr><th scope=col>&lt;chr&gt;</th><th scope=col>&lt;dbl&gt;</th><th scope=col>&lt;int&gt;</th></tr>\n",
              "</thead>\n",
              "<tbody>\n",
              "\t<tr><td>Paranormal Activity     </td><td>671.33686</td><td>2007</td></tr>\n",
              "\t<tr><td>The Blair Witch Project </td><td>648.06533</td><td>1999</td></tr>\n",
              "\t<tr><td>El Mariachi             </td><td>583.28567</td><td>1992</td></tr>\n",
              "\t<tr><td>Clerks.                 </td><td>258.06146</td><td>1994</td></tr>\n",
              "\t<tr><td>In the Company of Men   </td><td>230.69259</td><td>1997</td></tr>\n",
              "\t<tr><td>Napoleon Dynamite       </td><td>226.65924</td><td>2004</td></tr>\n",
              "\t<tr><td>Once                    </td><td>189.62070</td><td>2006</td></tr>\n",
              "\t<tr><td>The Devil Inside        </td><td>155.02037</td><td>2012</td></tr>\n",
              "\t<tr><td>Primer                  </td><td>141.52085</td><td>2004</td></tr>\n",
              "\t<tr><td>Fireproof               </td><td>133.85927</td><td>2008</td></tr>\n",
              "\t<tr><td>Saw                     </td><td>131.90120</td><td>2004</td></tr>\n",
              "\t<tr><td>My Big Fat Greek Wedding</td><td>118.73615</td><td>2002</td></tr>\n",
              "\t<tr><td>Pi                      </td><td>116.17154</td><td>1998</td></tr>\n",
              "\t<tr><td>Chasing Amy             </td><td>108.64630</td><td>1997</td></tr>\n",
              "\t<tr><td>Slacker                 </td><td>106.74070</td><td>1991</td></tr>\n",
              "\t<tr><td>Insidious               </td><td>102.58668</td><td>2010</td></tr>\n",
              "\t<tr><td>Paranormal Activity 2   </td><td> 87.42163</td><td>2010</td></tr>\n",
              "\t<tr><td>Paranormal Activity 3   </td><td> 62.21373</td><td>2011</td></tr>\n",
              "\t<tr><td>The Last Exorcism       </td><td> 61.77793</td><td>2010</td></tr>\n",
              "\t<tr><td>Cinderella              </td><td> 58.62068</td><td>1997</td></tr>\n",
              "\t<tr><td>Chernobyl Diaries       </td><td> 56.50964</td><td>2012</td></tr>\n",
              "\t<tr><td>Juno                    </td><td> 53.56363</td><td>2007</td></tr>\n",
              "\t<tr><td>The Purge               </td><td> 51.85789</td><td>2013</td></tr>\n",
              "\t<tr><td>Home Alone              </td><td> 50.82973</td><td>1990</td></tr>\n",
              "\t<tr><td>Insidious: Chapter 2    </td><td> 49.09953</td><td>2013</td></tr>\n",
              "\t<tr><td>Saw II                  </td><td> 47.99003</td><td>2005</td></tr>\n",
              "\t<tr><td>Das Leben Der Anderen   </td><td> 46.24085</td><td>2006</td></tr>\n",
              "\t<tr><td>Sinister                </td><td> 45.27157</td><td>2012</td></tr>\n",
              "\t<tr><td>Pretty Woman            </td><td> 43.64658</td><td>1990</td></tr>\n",
              "\t<tr><td>Pulp Fiction            </td><td> 40.10719</td><td>1994</td></tr>\n",
              "\t<tr><td>⋮</td><td>⋮</td><td>⋮</td></tr>\n",
              "\t<tr><td>Enter the Void                            </td><td>0.042249621</td><td>2009</td></tr>\n",
              "\t<tr><td>All or Nothing                            </td><td>0.040945513</td><td>2002</td></tr>\n",
              "\t<tr><td>The Lucky Ones                            </td><td>0.038138181</td><td>2008</td></tr>\n",
              "\t<tr><td>Southland Tales                           </td><td>0.037646262</td><td>2006</td></tr>\n",
              "\t<tr><td>The Tempest                               </td><td>0.027794341</td><td>2010</td></tr>\n",
              "\t<tr><td>Wild Target                               </td><td>0.027334421</td><td>2010</td></tr>\n",
              "\t<tr><td>Police Academy: Mission to Moscow         </td><td>0.025249406</td><td>1994</td></tr>\n",
              "\t<tr><td>Pontypool                                 </td><td>0.023853876</td><td>2008</td></tr>\n",
              "\t<tr><td>The Good Guy                              </td><td>0.020137574</td><td>2009</td></tr>\n",
              "\t<tr><td>Eulogy                                    </td><td>0.014105336</td><td>2004</td></tr>\n",
              "\t<tr><td>The Dead Girl                             </td><td>0.012045217</td><td>2006</td></tr>\n",
              "\t<tr><td>The Divide                                </td><td>0.011999722</td><td>2011</td></tr>\n",
              "\t<tr><td>August                                    </td><td>0.007433121</td><td>1996</td></tr>\n",
              "\t<tr><td>Margaret                                  </td><td>0.006740705</td><td>2011</td></tr>\n",
              "\t<tr><td>Perrier's Bounty                          </td><td>0.000250913</td><td>2009</td></tr>\n",
              "\t<tr><td>The Frozen Ground                         </td><td>         NA</td><td>2013</td></tr>\n",
              "\t<tr><td>A Lonely Place to Die                     </td><td>         NA</td><td>2011</td></tr>\n",
              "\t<tr><td>Detention                                 </td><td>         NA</td><td>2011</td></tr>\n",
              "\t<tr><td>Womb                                      </td><td>         NA</td><td>2010</td></tr>\n",
              "\t<tr><td>I Come with the Rain                      </td><td>         NA</td><td>2009</td></tr>\n",
              "\t<tr><td>Veronika Decides to Die                   </td><td>         NA</td><td>2009</td></tr>\n",
              "\t<tr><td>Yesterday Was a Lie                       </td><td>         NA</td><td>2009</td></tr>\n",
              "\t<tr><td>Day of the Dead                           </td><td>         NA</td><td>2008</td></tr>\n",
              "\t<tr><td>Stargate: The Ark of Truth                </td><td>         NA</td><td>2008</td></tr>\n",
              "\t<tr><td>Three Kingdoms: Resurrection of the Dragon</td><td>         NA</td><td>2008</td></tr>\n",
              "\t<tr><td>[Rec]                                     </td><td>         NA</td><td>2007</td></tr>\n",
              "\t<tr><td>The Man from Earth                        </td><td>         NA</td><td>2007</td></tr>\n",
              "\t<tr><td>White Noise 2: The Light                  </td><td>         NA</td><td>2007</td></tr>\n",
              "\t<tr><td>Bandidas                                  </td><td>         NA</td><td>2006</td></tr>\n",
              "\t<tr><td>London To Brighton                        </td><td>         NA</td><td>2006</td></tr>\n",
              "</tbody>\n",
              "</table>\n"
            ],
            "text/markdown": "\nA tibble: 1615 × 3\n\n| title &lt;chr&gt; | roi &lt;dbl&gt; | year &lt;int&gt; |\n|---|---|---|\n| Paranormal Activity      | 671.33686 | 2007 |\n| The Blair Witch Project  | 648.06533 | 1999 |\n| El Mariachi              | 583.28567 | 1992 |\n| Clerks.                  | 258.06146 | 1994 |\n| In the Company of Men    | 230.69259 | 1997 |\n| Napoleon Dynamite        | 226.65924 | 2004 |\n| Once                     | 189.62070 | 2006 |\n| The Devil Inside         | 155.02037 | 2012 |\n| Primer                   | 141.52085 | 2004 |\n| Fireproof                | 133.85927 | 2008 |\n| Saw                      | 131.90120 | 2004 |\n| My Big Fat Greek Wedding | 118.73615 | 2002 |\n| Pi                       | 116.17154 | 1998 |\n| Chasing Amy              | 108.64630 | 1997 |\n| Slacker                  | 106.74070 | 1991 |\n| Insidious                | 102.58668 | 2010 |\n| Paranormal Activity 2    |  87.42163 | 2010 |\n| Paranormal Activity 3    |  62.21373 | 2011 |\n| The Last Exorcism        |  61.77793 | 2010 |\n| Cinderella               |  58.62068 | 1997 |\n| Chernobyl Diaries        |  56.50964 | 2012 |\n| Juno                     |  53.56363 | 2007 |\n| The Purge                |  51.85789 | 2013 |\n| Home Alone               |  50.82973 | 1990 |\n| Insidious: Chapter 2     |  49.09953 | 2013 |\n| Saw II                   |  47.99003 | 2005 |\n| Das Leben Der Anderen    |  46.24085 | 2006 |\n| Sinister                 |  45.27157 | 2012 |\n| Pretty Woman             |  43.64658 | 1990 |\n| Pulp Fiction             |  40.10719 | 1994 |\n| ⋮ | ⋮ | ⋮ |\n| Enter the Void                             | 0.042249621 | 2009 |\n| All or Nothing                             | 0.040945513 | 2002 |\n| The Lucky Ones                             | 0.038138181 | 2008 |\n| Southland Tales                            | 0.037646262 | 2006 |\n| The Tempest                                | 0.027794341 | 2010 |\n| Wild Target                                | 0.027334421 | 2010 |\n| Police Academy: Mission to Moscow          | 0.025249406 | 1994 |\n| Pontypool                                  | 0.023853876 | 2008 |\n| The Good Guy                               | 0.020137574 | 2009 |\n| Eulogy                                     | 0.014105336 | 2004 |\n| The Dead Girl                              | 0.012045217 | 2006 |\n| The Divide                                 | 0.011999722 | 2011 |\n| August                                     | 0.007433121 | 1996 |\n| Margaret                                   | 0.006740705 | 2011 |\n| Perrier's Bounty                           | 0.000250913 | 2009 |\n| The Frozen Ground                          |          NA | 2013 |\n| A Lonely Place to Die                      |          NA | 2011 |\n| Detention                                  |          NA | 2011 |\n| Womb                                       |          NA | 2010 |\n| I Come with the Rain                       |          NA | 2009 |\n| Veronika Decides to Die                    |          NA | 2009 |\n| Yesterday Was a Lie                        |          NA | 2009 |\n| Day of the Dead                            |          NA | 2008 |\n| Stargate: The Ark of Truth                 |          NA | 2008 |\n| Three Kingdoms: Resurrection of the Dragon |          NA | 2008 |\n| [Rec]                                      |          NA | 2007 |\n| The Man from Earth                         |          NA | 2007 |\n| White Noise 2: The Light                   |          NA | 2007 |\n| Bandidas                                   |          NA | 2006 |\n| London To Brighton                         |          NA | 2006 |\n\n",
            "text/latex": "A tibble: 1615 × 3\n\\begin{tabular}{lll}\n title & roi & year\\\\\n <chr> & <dbl> & <int>\\\\\n\\hline\n\t Paranormal Activity      & 671.33686 & 2007\\\\\n\t The Blair Witch Project  & 648.06533 & 1999\\\\\n\t El Mariachi              & 583.28567 & 1992\\\\\n\t Clerks.                  & 258.06146 & 1994\\\\\n\t In the Company of Men    & 230.69259 & 1997\\\\\n\t Napoleon Dynamite        & 226.65924 & 2004\\\\\n\t Once                     & 189.62070 & 2006\\\\\n\t The Devil Inside         & 155.02037 & 2012\\\\\n\t Primer                   & 141.52085 & 2004\\\\\n\t Fireproof                & 133.85927 & 2008\\\\\n\t Saw                      & 131.90120 & 2004\\\\\n\t My Big Fat Greek Wedding & 118.73615 & 2002\\\\\n\t Pi                       & 116.17154 & 1998\\\\\n\t Chasing Amy              & 108.64630 & 1997\\\\\n\t Slacker                  & 106.74070 & 1991\\\\\n\t Insidious                & 102.58668 & 2010\\\\\n\t Paranormal Activity 2    &  87.42163 & 2010\\\\\n\t Paranormal Activity 3    &  62.21373 & 2011\\\\\n\t The Last Exorcism        &  61.77793 & 2010\\\\\n\t Cinderella               &  58.62068 & 1997\\\\\n\t Chernobyl Diaries        &  56.50964 & 2012\\\\\n\t Juno                     &  53.56363 & 2007\\\\\n\t The Purge                &  51.85789 & 2013\\\\\n\t Home Alone               &  50.82973 & 1990\\\\\n\t Insidious: Chapter 2     &  49.09953 & 2013\\\\\n\t Saw II                   &  47.99003 & 2005\\\\\n\t Das Leben Der Anderen    &  46.24085 & 2006\\\\\n\t Sinister                 &  45.27157 & 2012\\\\\n\t Pretty Woman             &  43.64658 & 1990\\\\\n\t Pulp Fiction             &  40.10719 & 1994\\\\\n\t ⋮ & ⋮ & ⋮\\\\\n\t Enter the Void                             & 0.042249621 & 2009\\\\\n\t All or Nothing                             & 0.040945513 & 2002\\\\\n\t The Lucky Ones                             & 0.038138181 & 2008\\\\\n\t Southland Tales                            & 0.037646262 & 2006\\\\\n\t The Tempest                                & 0.027794341 & 2010\\\\\n\t Wild Target                                & 0.027334421 & 2010\\\\\n\t Police Academy: Mission to Moscow          & 0.025249406 & 1994\\\\\n\t Pontypool                                  & 0.023853876 & 2008\\\\\n\t The Good Guy                               & 0.020137574 & 2009\\\\\n\t Eulogy                                     & 0.014105336 & 2004\\\\\n\t The Dead Girl                              & 0.012045217 & 2006\\\\\n\t The Divide                                 & 0.011999722 & 2011\\\\\n\t August                                     & 0.007433121 & 1996\\\\\n\t Margaret                                   & 0.006740705 & 2011\\\\\n\t Perrier's Bounty                           & 0.000250913 & 2009\\\\\n\t The Frozen Ground                          &          NA & 2013\\\\\n\t A Lonely Place to Die                      &          NA & 2011\\\\\n\t Detention                                  &          NA & 2011\\\\\n\t Womb                                       &          NA & 2010\\\\\n\t I Come with the Rain                       &          NA & 2009\\\\\n\t Veronika Decides to Die                    &          NA & 2009\\\\\n\t Yesterday Was a Lie                        &          NA & 2009\\\\\n\t Day of the Dead                            &          NA & 2008\\\\\n\t Stargate: The Ark of Truth                 &          NA & 2008\\\\\n\t Three Kingdoms: Resurrection of the Dragon &          NA & 2008\\\\\n\t {[}Rec{]}                                      &          NA & 2007\\\\\n\t The Man from Earth                         &          NA & 2007\\\\\n\t White Noise 2: The Light                   &          NA & 2007\\\\\n\t Bandidas                                   &          NA & 2006\\\\\n\t London To Brighton                         &          NA & 2006\\\\\n\\end{tabular}\n",
            "text/plain": [
              "     title                                      roi         year\n",
              "1    Paranormal Activity                        671.33686   2007\n",
              "2    The Blair Witch Project                    648.06533   1999\n",
              "3    El Mariachi                                583.28567   1992\n",
              "4    Clerks.                                    258.06146   1994\n",
              "5    In the Company of Men                      230.69259   1997\n",
              "6    Napoleon Dynamite                          226.65924   2004\n",
              "7    Once                                       189.62070   2006\n",
              "8    The Devil Inside                           155.02037   2012\n",
              "9    Primer                                     141.52085   2004\n",
              "10   Fireproof                                  133.85927   2008\n",
              "11   Saw                                        131.90120   2004\n",
              "12   My Big Fat Greek Wedding                   118.73615   2002\n",
              "13   Pi                                         116.17154   1998\n",
              "14   Chasing Amy                                108.64630   1997\n",
              "15   Slacker                                    106.74070   1991\n",
              "16   Insidious                                  102.58668   2010\n",
              "17   Paranormal Activity 2                       87.42163   2010\n",
              "18   Paranormal Activity 3                       62.21373   2011\n",
              "19   The Last Exorcism                           61.77793   2010\n",
              "20   Cinderella                                  58.62068   1997\n",
              "21   Chernobyl Diaries                           56.50964   2012\n",
              "22   Juno                                        53.56363   2007\n",
              "23   The Purge                                   51.85789   2013\n",
              "24   Home Alone                                  50.82973   1990\n",
              "25   Insidious: Chapter 2                        49.09953   2013\n",
              "26   Saw II                                      47.99003   2005\n",
              "27   Das Leben Der Anderen                       46.24085   2006\n",
              "28   Sinister                                    45.27157   2012\n",
              "29   Pretty Woman                                43.64658   1990\n",
              "30   Pulp Fiction                                40.10719   1994\n",
              "⋮    ⋮                                          ⋮           ⋮   \n",
              "1586 Enter the Void                             0.042249621 2009\n",
              "1587 All or Nothing                             0.040945513 2002\n",
              "1588 The Lucky Ones                             0.038138181 2008\n",
              "1589 Southland Tales                            0.037646262 2006\n",
              "1590 The Tempest                                0.027794341 2010\n",
              "1591 Wild Target                                0.027334421 2010\n",
              "1592 Police Academy: Mission to Moscow          0.025249406 1994\n",
              "1593 Pontypool                                  0.023853876 2008\n",
              "1594 The Good Guy                               0.020137574 2009\n",
              "1595 Eulogy                                     0.014105336 2004\n",
              "1596 The Dead Girl                              0.012045217 2006\n",
              "1597 The Divide                                 0.011999722 2011\n",
              "1598 August                                     0.007433121 1996\n",
              "1599 Margaret                                   0.006740705 2011\n",
              "1600 Perrier's Bounty                           0.000250913 2009\n",
              "1601 The Frozen Ground                                   NA 2013\n",
              "1602 A Lonely Place to Die                               NA 2011\n",
              "1603 Detention                                           NA 2011\n",
              "1604 Womb                                                NA 2010\n",
              "1605 I Come with the Rain                                NA 2009\n",
              "1606 Veronika Decides to Die                             NA 2009\n",
              "1607 Yesterday Was a Lie                                 NA 2009\n",
              "1608 Day of the Dead                                     NA 2008\n",
              "1609 Stargate: The Ark of Truth                          NA 2008\n",
              "1610 Three Kingdoms: Resurrection of the Dragon          NA 2008\n",
              "1611 [Rec]                                               NA 2007\n",
              "1612 The Man from Earth                                  NA 2007\n",
              "1613 White Noise 2: The Light                            NA 2007\n",
              "1614 Bandidas                                            NA 2006\n",
              "1615 London To Brighton                                  NA 2006"
            ]
          },
          "metadata": {}
        }
      ]
    },
    {
      "cell_type": "code",
      "source": [
        "# Visualize return on investment by test result.\n",
        "\n",
        "ggplot(data = bechdel90_13,\n",
        "  mapping = aes(x = clean_test, y = roi, color = binary)) +\n",
        "  geom_boxplot() + \n",
        "  labs(title = \"Bechdel Test Result vs. Return on Investment\",\n",
        "       x = \"Detailed Bechdel Result\",\n",
        "       y = \"Return on Investment\",\n",
        "       color = \"Binary Bechdel Result\")"
      ],
      "metadata": {
        "colab": {
          "base_uri": "https://localhost:8080/",
          "height": 473
        },
        "id": "y7JRnQ6bZV9N",
        "outputId": "3df00aa5-a493-4cce-abb4-ed2b604bc4a8"
      },
      "execution_count": 18,
      "outputs": [
        {
          "output_type": "stream",
          "name": "stderr",
          "text": [
            "Warning message:\n",
            "“Removed 15 rows containing non-finite values (stat_boxplot).”\n"
          ]
        },
        {
          "output_type": "display_data",
          "data": {
            "text/plain": [
              "plot without title"
            ],
            "image/png": "[encoded data removed]"
          },
          "metadata": {
            "image/png": {
              "width": 420,
              "height": 420
            }
          }
        }
      ]
    },
    {
      "cell_type": "code",
      "source": [
        "bechdel90_13 %>%\n",
        "  filter(roi > 400) %>%\n",
        "  select(title, budget_2013, domgross_2013, year)"
      ],
      "metadata": {
        "colab": {
          "base_uri": "https://localhost:8080/",
          "height": 192
        },
        "id": "01kStAz-bvGa",
        "outputId": "bec06d54-b45f-4b5c-d9c5-8e5dbb4b4da1"
      },
      "execution_count": 20,
      "outputs": [
        {
          "output_type": "display_data",
          "data": {
            "text/html": [
              "<table class=\"dataframe\">\n",
              "<caption>A tibble: 3 × 4</caption>\n",
              "<thead>\n",
              "\t<tr><th scope=col>title</th><th scope=col>budget_2013</th><th scope=col>domgross_2013</th><th scope=col>year</th></tr>\n",
              "\t<tr><th scope=col>&lt;chr&gt;</th><th scope=col>&lt;int&gt;</th><th scope=col>&lt;dbl&gt;</th><th scope=col>&lt;int&gt;</th></tr>\n",
              "</thead>\n",
              "<tbody>\n",
              "\t<tr><td>Paranormal Activity    </td><td>505595</td><td>121251476</td><td>2007</td></tr>\n",
              "\t<tr><td>The Blair Witch Project</td><td>839077</td><td>196538593</td><td>1999</td></tr>\n",
              "\t<tr><td>El Mariachi            </td><td> 11622</td><td>  3388636</td><td>1992</td></tr>\n",
              "</tbody>\n",
              "</table>\n"
            ],
            "text/markdown": "\nA tibble: 3 × 4\n\n| title &lt;chr&gt; | budget_2013 &lt;int&gt; | domgross_2013 &lt;dbl&gt; | year &lt;int&gt; |\n|---|---|---|---|\n| Paranormal Activity     | 505595 | 121251476 | 2007 |\n| The Blair Witch Project | 839077 | 196538593 | 1999 |\n| El Mariachi             |  11622 |   3388636 | 1992 |\n\n",
            "text/latex": "A tibble: 3 × 4\n\\begin{tabular}{llll}\n title & budget\\_2013 & domgross\\_2013 & year\\\\\n <chr> & <int> & <dbl> & <int>\\\\\n\\hline\n\t Paranormal Activity     & 505595 & 121251476 & 2007\\\\\n\t The Blair Witch Project & 839077 & 196538593 & 1999\\\\\n\t El Mariachi             &  11622 &   3388636 & 1992\\\\\n\\end{tabular}\n",
            "text/plain": [
              "  title                   budget_2013 domgross_2013 year\n",
              "1 Paranormal Activity     505595      121251476     2007\n",
              "2 The Blair Witch Project 839077      196538593     1999\n",
              "3 El Mariachi              11622        3388636     1992"
            ]
          },
          "metadata": {}
        }
      ]
    },
    {
      "cell_type": "code",
      "source": [
        "# Visualize return on investment by test result, zoomed in to get a better view\n",
        "# of the 'roi' distributions (omitting Paranormal Activity, The Blair Witch \n",
        "# Project, and El Mariachi).\n",
        "\n",
        "ggplot(data = bechdel90_13, \n",
        "  mapping = aes(x = clean_test, y = roi, color = binary)) +\n",
        "  geom_boxplot() + \n",
        "  labs(title = \"Bechdel Test Result vs. Return on Investment\",\n",
        "       subtitle = \"zoomed in on the y-axis for better view\",\n",
        "       x = \"Detailed Bechdel Result\",\n",
        "       y = \"Return on Investment\",\n",
        "       color = \"Binary Bechdel Result\") + \n",
        "  coord_cartesian(ylim = c(0, 15))"
      ],
      "metadata": {
        "colab": {
          "base_uri": "https://localhost:8080/",
          "height": 473
        },
        "id": "GxbVzV6ta6GD",
        "outputId": "2d92e827-ae93-4699-ef55-0aa98d6f0e1c"
      },
      "execution_count": 23,
      "outputs": [
        {
          "output_type": "stream",
          "name": "stderr",
          "text": [
            "Warning message:\n",
            "“Removed 15 rows containing non-finite values (stat_boxplot).”\n"
          ]
        },
        {
          "output_type": "display_data",
          "data": {
            "text/plain": [
              "plot without title"
            ],
            "image/png": "[encoded data removed]"
          },
          "metadata": {
            "image/png": {
              "width": 420,
              "height": 420
            }
          }
        }
      ]
    }
  ]
}